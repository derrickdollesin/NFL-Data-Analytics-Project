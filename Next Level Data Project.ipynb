{
 "cells": [
  {
   "cell_type": "code",
   "execution_count": 67,
   "id": "db4453e2",
   "metadata": {},
   "outputs": [],
   "source": [
    "# importing useful packages\n",
    "import pandas as pd\n",
    "import numpy as np\n",
    "import matplotlib as plt"
   ]
  },
  {
   "cell_type": "code",
   "execution_count": 68,
   "id": "22ab7092",
   "metadata": {},
   "outputs": [],
   "source": [
    "# all data is taken from https://www.nfl.com/stats/\n",
    "\n",
    "# NFL player data taken from the 2023 season\n",
    "starting_quarterbacks = pd.read_csv(\"Next Level Data Project - 2023 Starting Quarterbacks.csv\")\n",
    "player_passing_data = pd.read_csv(\"Next Level Data Project - 2023 Player Passing Data.csv\")\n",
    "player_rushing_data = pd.read_csv(\"Next Level Data Project - 2023 Player Rushing Data.csv\")\n",
    "\n",
    "# combining player data into a single dataframe\n",
    "only_qb = starting_quarterbacks.merge(player_passing_data, on=\"Player\")\n",
    "qb_data = only_qb.merge(player_rushing_data, on=\"Player\")\n",
    "\n",
    "# NFL team data taken from the 2023 season\n",
    "fumbles_data = pd.read_csv(\"Next Level Data Project - 2023 Team Fumbles Data.csv\")\n",
    "rushing_data = pd.read_csv(\"Next Level Data Project - 2023 Team Offense Rushing Data.csv\")\n",
    "passing_data = pd.read_csv(\"Next Level Data Project - 2023 Team Offense Passing Data.csv\")\n",
    "reg_season_data = pd.read_csv(\"Next Level Data Project - 2023 NFL Regular Season Data.csv\")\n",
    "\n",
    "# combining team data into a single dataframe\n",
    "c1 = reg_season_data.merge(fumbles_data, left_on=\"NFL Team\", right_on=\"Team\")\n",
    "c2 = c1.merge(rushing_data, left_on=\"NFL Team\", right_on=\"Team\")\n",
    "team_data = c2.merge(passing_data, left_on=\"NFL Team\", right_on=\"Team\")\n"
   ]
  },
  {
   "cell_type": "code",
   "execution_count": null,
   "id": "6927b6d2",
   "metadata": {},
   "outputs": [],
   "source": []
  }
 ],
 "metadata": {
  "kernelspec": {
   "display_name": "Python 3 (ipykernel)",
   "language": "python",
   "name": "python3"
  },
  "language_info": {
   "codemirror_mode": {
    "name": "ipython",
    "version": 3
   },
   "file_extension": ".py",
   "mimetype": "text/x-python",
   "name": "python",
   "nbconvert_exporter": "python",
   "pygments_lexer": "ipython3",
   "version": "3.9.5"
  }
 },
 "nbformat": 4,
 "nbformat_minor": 5
}
